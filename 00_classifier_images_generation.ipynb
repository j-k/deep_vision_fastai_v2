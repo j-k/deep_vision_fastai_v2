{
 "cells": [
  {
   "cell_type": "markdown",
   "metadata": {},
   "source": [
    "# Deep Learning Computer Vision Experiments\n",
    "These Jupyter Notebooks are a walkthrough to Deep Learning Computer Vision applications using [FastAI Version 2](https://github.com/fastai/fastai2). For each of the applications data generators are used. This eliminates the need for external data sets and facilitates scalability explorations.\n",
    "## Full-Image Classification\n",
    "Full-image Classification is the task of assigning a category label to an image. Given are photographs of objects in which there is one prominent object shown around the center of the image. Typically, this object is also the largest object in the image. Let's create a data set containing number digits as the primary object in each image (excluding backgroud structures such as sky).\n",
    "\n",
    "To make this experiment a little bit more interesting the digits are drawn from random fonts and corrupted with a data augmentation pipline. One set of images is saved and cleaned up so one can actually skip this notebook and move on with the training. You can run this notebook again to add more samples. Note, that you have to clean up manually.\n",
    "### Important imports\n",
    "Install all Python packages such that the following code section runs through smoothly."
   ]
  },
  {
   "cell_type": "code",
   "execution_count": 1,
   "metadata": {},
   "outputs": [],
   "source": [
    "%matplotlib inline\n",
    "from pathlib import Path\n",
    "from PIL import Image, ImageDraw, ImageFont\n",
    "import imgaug as ia\n",
    "from imgaug import augmenters as iaa\n",
    "import numpy as np\n",
    "import matplotlib.pyplot as plt\n",
    "import random\n",
    "import string"
   ]
  },
  {
   "cell_type": "markdown",
   "metadata": {},
   "source": [
    "### Experiments to get a random digit image"
   ]
  },
  {
   "cell_type": "code",
   "execution_count": 2,
   "metadata": {},
   "outputs": [],
   "source": [
    "im_size = 64\n",
    "image = Image.new('L', (im_size, im_size), 0)"
   ]
  },
  {
   "cell_type": "code",
   "execution_count": 3,
   "metadata": {},
   "outputs": [
    {
     "data": {
      "text/plain": [
       "<matplotlib.image.AxesImage at 0x174f5168548>"
      ]
     },
     "execution_count": 3,
     "metadata": {},
     "output_type": "execute_result"
    },
    {
     "data": {
      "image/png": "[encoded data removed]",
      "text/plain": [
       "<Figure size 432x288 with 1 Axes>"
      ]
     },
     "metadata": {
      "needs_background": "light"
     },
     "output_type": "display_data"
    }
   ],
   "source": [
    "plt.imshow(np.asarray(image), cmap='gray')"
   ]
  },
  {
   "cell_type": "code",
   "execution_count": 4,
   "metadata": {},
   "outputs": [],
   "source": [
    "path_fonts = Path(r\"C:\\Windows\\Fonts\") # enter your font path here"
   ]
  },
  {
   "cell_type": "code",
   "execution_count": 5,
   "metadata": {},
   "outputs": [],
   "source": [
    "fonts = list(path_fonts.rglob(\"*.ttf\"))"
   ]
  },
  {
   "cell_type": "code",
   "execution_count": 6,
   "metadata": {},
   "outputs": [
    {
     "data": {
      "text/plain": [
       "489"
      ]
     },
     "execution_count": 6,
     "metadata": {},
     "output_type": "execute_result"
    }
   ],
   "source": [
    "len(fonts)"
   ]
  },
  {
   "cell_type": "code",
   "execution_count": 7,
   "metadata": {},
   "outputs": [
    {
     "data": {
      "text/plain": [
       "[WindowsPath('C:/Windows/Fonts/AGENCYB.TTF'),\n",
       " WindowsPath('C:/Windows/Fonts/AGENCYR.TTF'),\n",
       " WindowsPath('C:/Windows/Fonts/Alef-Bold.ttf'),\n",
       " WindowsPath('C:/Windows/Fonts/Alef-Regular.ttf'),\n",
       " WindowsPath('C:/Windows/Fonts/ALGER.TTF')]"
      ]
     },
     "execution_count": 7,
     "metadata": {},
     "output_type": "execute_result"
    }
   ],
   "source": [
    "fonts[0:5]"
   ]
  },
  {
   "cell_type": "markdown",
   "metadata": {},
   "source": [
    "The following code to fit the digit's size to the image is heavily inspired from [here](https://stackoverflow.com/questions/4902198/pil-how-to-scale-text-size-in-relation-to-the-size-of-the-image.) "
   ]
  },
  {
   "cell_type": "code",
   "execution_count": 9,
   "metadata": {},
   "outputs": [
    {
     "data": {
      "text/plain": [
       "55"
      ]
     },
     "execution_count": 9,
     "metadata": {},
     "output_type": "execute_result"
    }
   ],
   "source": [
    "font_height = 0\n",
    "margin = 10\n",
    "font = ImageFont.truetype(str(fonts[1]), font_height)\n",
    "while font.getsize(\"1\")[1] < im_size-margin:\n",
    "    font = ImageFont.truetype(str(fonts[1]), font_height)\n",
    "    font_height += 1\n",
    "font_height"
   ]
  },
  {
   "cell_type": "code",
   "execution_count": 10,
   "metadata": {},
   "outputs": [],
   "source": [
    "ImageDraw.Draw(image).text((0, 0), \"1\", font=font, fill=255)"
   ]
  },
  {
   "cell_type": "code",
   "execution_count": 11,
   "metadata": {},
   "outputs": [
    {
     "data": {
      "text/plain": [
       "<matplotlib.image.AxesImage at 0x174f6337b88>"
      ]
     },
     "execution_count": 11,
     "metadata": {},
     "output_type": "execute_result"
    },
    {
     "data": {
      "image/png": "[encoded data removed]",
      "text/plain": [
       "<Figure size 432x288 with 1 Axes>"
      ]
     },
     "metadata": {
      "needs_background": "light"
     },
     "output_type": "display_data"
    }
   ],
   "source": [
    "plt.imshow(np.asarray(image), cmap='gray')"
   ]
  },
  {
   "cell_type": "markdown",
   "metadata": {},
   "source": [
    "### Definition of a random image generation function"
   ]
  },
  {
   "cell_type": "code",
   "execution_count": 12,
   "metadata": {},
   "outputs": [],
   "source": [
    "def get_random_digit_image(fonts, im_size, margin, bg_max, fg_min):\n",
    "    img = Image.new('L', (im_size, im_size), random.randrange(0, bg_max))\n",
    "    digit = str(random.randrange(0, 10))\n",
    "    font_height = 0\n",
    "    idx = random.randrange(0, len(fonts))\n",
    "    font = ImageFont.truetype(str(fonts[idx]), 0)\n",
    "    while font.getsize(digit)[1] < im_size-2*margin:\n",
    "        font = ImageFont.truetype(str(fonts[idx]), font_height)\n",
    "        font_height += 1\n",
    "    font = ImageFont.truetype(str(fonts[idx]), font_height-1)\n",
    "    font_size = font.getsize(digit)\n",
    "    ImageDraw.Draw(img).text(\n",
    "        ((im_size-font_size[0])/2, (im_size-font_size[1])/2),\n",
    "        digit,\n",
    "        font=font,\n",
    "        fill=random.randrange(fg_min, 255)\n",
    "    )\n",
    "    return img, digit"
   ]
  },
  {
   "cell_type": "code",
   "execution_count": 13,
   "metadata": {},
   "outputs": [],
   "source": [
    "image, d = get_random_digit_image(fonts, im_size, margin, 100, 105)"
   ]
  },
  {
   "cell_type": "code",
   "execution_count": 14,
   "metadata": {},
   "outputs": [
    {
     "data": {
      "text/plain": [
       "<matplotlib.image.AxesImage at 0x174f63ad488>"
      ]
     },
     "execution_count": 14,
     "metadata": {},
     "output_type": "execute_result"
    },
    {
     "data": {
      "image/png": "[encoded data removed]",
      "text/plain": [
       "<Figure size 432x288 with 1 Axes>"
      ]
     },
     "metadata": {
      "needs_background": "light"
     },
     "output_type": "display_data"
    }
   ],
   "source": [
    "plt.imshow(np.asarray(image), cmap='gray')"
   ]
  },
  {
   "cell_type": "code",
   "execution_count": 15,
   "metadata": {},
   "outputs": [
    {
     "data": {
      "text/plain": [
       "'2'"
      ]
     },
     "execution_count": 15,
     "metadata": {},
     "output_type": "execute_result"
    }
   ],
   "source": [
    "d"
   ]
  },
  {
   "cell_type": "markdown",
   "metadata": {},
   "source": [
    "### Definition of a data augmentation pipeline based on [imgaug](https://imgaug.readthedocs.io/en/latest/)\n",
    "Data augmentation pipeline stolen from [here](https://imgaug.readthedocs.io/en/latest/source/examples_basics.html#a-standard-use-case) and tamed (set to be less corruptive). "
   ]
  },
  {
   "cell_type": "code",
   "execution_count": 16,
   "metadata": {},
   "outputs": [],
   "source": [
    "sometimes = lambda aug: iaa.Sometimes(0.5, aug)\n",
    "\n",
    "# Define our sequence of augmentation steps that will be applied to every image.\n",
    "seq = iaa.Sequential(\n",
    "    [\n",
    "        # crop some of the images by 0-10% of their height/width\n",
    "        sometimes(iaa.Crop(percent=(0, 0.1))),\n",
    "\n",
    "        # Apply affine transformations to some of the images\n",
    "        sometimes(iaa.Affine(\n",
    "            scale={\"x\": (0.8, 1.2), \"y\": (0.8, 1.2)},\n",
    "            translate_percent={\"x\": (-0.2, 0.2), \"y\": (-0.2, 0.2)},\n",
    "            rotate=(-15, 15),\n",
    "            shear=(-16, 16),\n",
    "            order=[0, 1],\n",
    "            cval=(0, 255),\n",
    "            mode=ia.ALL\n",
    "        )),\n",
    "\n",
    "        # Execute 0 to 5 of the following (less important) augmenters per\n",
    "        # image. Don't execute all of them, as that would often be way too\n",
    "        # strong.\n",
    "        iaa.SomeOf((0, 5),\n",
    "            [\n",
    "                iaa.OneOf([\n",
    "                    iaa.GaussianBlur((0, 3.0)),\n",
    "                    iaa.AverageBlur(k=(2, 7)),\n",
    "                    iaa.MedianBlur(k=(3, 11)),\n",
    "                ]),\n",
    "                iaa.AdditiveGaussianNoise(\n",
    "                    loc=0, scale=(0.0, 0.05*255), per_channel=0.5\n",
    "                ),\n",
    "\n",
    "                sometimes(\n",
    "                    iaa.ElasticTransformation(alpha=(0.5, 3.5), sigma=0.25)\n",
    "                ),\n",
    "\n",
    "                # In some images distort local areas with varying strength.\n",
    "                sometimes(iaa.PiecewiseAffine(scale=(0.01, 0.15)))\n",
    "            ],\n",
    "            # do all of the above augmentations in random order\n",
    "            random_order=True\n",
    "        )\n",
    "    ],\n",
    "    # do all of the above augmentations in random order\n",
    "    random_order=True\n",
    ")"
   ]
  },
  {
   "cell_type": "code",
   "execution_count": 17,
   "metadata": {},
   "outputs": [],
   "source": [
    "all_images_and_idxs= [get_random_digit_image(fonts, im_size, margin, 100, 105) for i in range(200)]"
   ]
  },
  {
   "cell_type": "code",
   "execution_count": 18,
   "metadata": {},
   "outputs": [],
   "source": [
    "all_images_np = [np.asarray(im[0]) for im in all_images_and_idxs]"
   ]
  },
  {
   "cell_type": "code",
   "execution_count": 19,
   "metadata": {},
   "outputs": [
    {
     "data": {
      "text/plain": [
       "<matplotlib.image.AxesImage at 0x174f6473608>"
      ]
     },
     "execution_count": 19,
     "metadata": {},
     "output_type": "execute_result"
    },
    {
     "data": {
      "image/png": "[encoded data removed]",
      "text/plain": [
       "<Figure size 432x288 with 1 Axes>"
      ]
     },
     "metadata": {
      "needs_background": "light"
     },
     "output_type": "display_data"
    }
   ],
   "source": [
    "plt.imshow(all_images_np[42], cmap='gray')"
   ]
  },
  {
   "cell_type": "code",
   "execution_count": 20,
   "metadata": {},
   "outputs": [],
   "source": [
    "images_aug = seq(images=all_images_np)"
   ]
  },
  {
   "cell_type": "code",
   "execution_count": 21,
   "metadata": {},
   "outputs": [
    {
     "data": {
      "text/plain": [
       "<matplotlib.image.AxesImage at 0x174f64fa988>"
      ]
     },
     "execution_count": 21,
     "metadata": {},
     "output_type": "execute_result"
    },
    {
     "data": {
      "image/png": "[encoded data removed]",
      "text/plain": [
       "<Figure size 432x288 with 1 Axes>"
      ]
     },
     "metadata": {
      "needs_background": "light"
     },
     "output_type": "display_data"
    }
   ],
   "source": [
    "plt.imshow(images_aug[42], cmap='gray')"
   ]
  },
  {
   "cell_type": "code",
   "execution_count": 25,
   "metadata": {},
   "outputs": [],
   "source": [
    "all_idxs = [im[1] for im in all_images_and_idxs]"
   ]
  },
  {
   "cell_type": "code",
   "execution_count": 26,
   "metadata": {},
   "outputs": [
    {
     "data": {
      "text/plain": [
       "['0', '8', '0', '3', '3', '8', '5', '6', '7', '8']"
      ]
     },
     "execution_count": 26,
     "metadata": {},
     "output_type": "execute_result"
    }
   ],
   "source": [
    "all_idxs[0:10]"
   ]
  },
  {
   "cell_type": "code",
   "execution_count": 28,
   "metadata": {},
   "outputs": [
    {
     "data": {
      "text/plain": [
       "'msqru'"
      ]
     },
     "execution_count": 28,
     "metadata": {},
     "output_type": "execute_result"
    }
   ],
   "source": [
    "#https://stackoverflow.com/questions/2257441/random-string-generation-with-upper-case-letters-and-digits\n",
    "def random_string(length=5):\n",
    "  return ''.join(random.sample(string.ascii_lowercase, length))\n",
    "random_string()"
   ]
  },
  {
   "cell_type": "code",
   "execution_count": 29,
   "metadata": {},
   "outputs": [],
   "source": [
    "%mkdir 00_classifier_images"
   ]
  },
  {
   "cell_type": "code",
   "execution_count": 30,
   "metadata": {},
   "outputs": [],
   "source": [
    "for k in range(len(all_idxs)):\n",
    "    im = Image.fromarray(all_images_np[k])\n",
    "    im.save(\"00_classifier_images/\"+all_idxs[k]+\"_\"+random_string()+\".jpeg\")"
   ]
  },
  {
   "cell_type": "code",
   "execution_count": null,
   "metadata": {},
   "outputs": [],
   "source": []
  }
 ],
 "metadata": {
  "kernelspec": {
   "display_name": "Python 3",
   "language": "python",
   "name": "python3"
  },
  "language_info": {
   "codemirror_mode": {
    "name": "ipython",
    "version": 3
   },
   "file_extension": ".py",
   "mimetype": "text/x-python",
   "name": "python",
   "nbconvert_exporter": "python",
   "pygments_lexer": "ipython3",
   "version": "3.7.6"
  }
 },
 "nbformat": 4,
 "nbformat_minor": 4
}
